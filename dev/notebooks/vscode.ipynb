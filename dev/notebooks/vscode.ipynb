{
  "metadata": {
    "kernelspec": {
      "name": "pyodide",
      "display_name": "Pyodide (Python)",
      "language": "python"
    },
    "language_info": {
      "name": "python",
      "version": "3.11.0",
      "mimetype": "text/x-python",
      "file_extension": ".py",
      "pygments_lexer": "ipython3",
      "codemirror_mode": {
        "name": "ipython",
        "version": 3
      },
      "nbconvert_exporter": "python"
    }
  },
  "nbformat_minor": 5,
  "nbformat": 4,
  "cells": [
    {
      "id": "4cb07156-8003-4cf7-8ab8-f9de6f8c9698",
      "cell_type": "code",
      "source": "import platform\nprint(platform.node())",
      "metadata": {
        "editable": true,
        "execution": {
          "shell.execute_reply.started": "2025-10-09T22:07:27.309Z",
          "shell.execute_reply": "2025-10-09T22:07:27.345Z"
        },
        "trusted": true
      },
      "outputs": [
        {
          "name": "stdout",
          "output_type": "stream",
          "text": "emscripten"
        }
      ],
      "execution_count": 1
    },
    {
      "id": "d7c92dbb",
      "cell_type": "code",
      "source": "import time\n\nfor i in range(10):\n    print(i)\n    time.sleep(1)",
      "metadata": {
        "editable": true,
        "execution": {
          "shell.execute_reply.started": "2025-10-09T23:04:25.659Z",
          "shell.execute_reply": "2025-10-09T23:04:35.681Z"
        },
        "trusted": true
      },
      "outputs": [
        {
          "name": "stdout",
          "output_type": "stream",
          "text": "0\n1\n2\n3\n4\n5\n6\n7\n8\n9\n"
        }
      ],
      "execution_count": 1
    },
    {
      "id": "a9a46ba8-5da8-41fc-9487-05d440e406ea",
      "cell_type": "code",
      "source": "1+4",
      "metadata": {
        "editable": true,
        "execution": {
          "iopub.execute_input": "2025-10-03T07:48:56.535834Z",
          "iopub.status.busy": "2025-10-03T07:48:56.535163Z",
          "iopub.status.idle": "2025-10-03T07:48:56.540955Z",
          "shell.execute_reply": "2025-10-03T07:48:56.540120Z",
          "shell.execute_reply.started": "2025-10-03T07:48:56.535806Z"
        },
        "trusted": true
      },
      "outputs": [
        {
          "data": {
            "text/plain": [
              "5"
            ]
          },
          "execution_count": 5,
          "metadata": {},
          "output_type": "execute_result"
        }
      ],
      "execution_count": 5
    },
    {
      "id": "a83c25fa-81a2-4f4e-a589-a8e6bdcd36cb",
      "cell_type": "code",
      "source": "",
      "metadata": {
        "editable": true,
        "trusted": true
      },
      "outputs": [],
      "execution_count": null
    }
  ]
}