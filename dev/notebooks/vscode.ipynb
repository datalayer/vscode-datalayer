{
  "cells": [
    {
      "cell_type": "code",
      "execution_count": null,
      "id": "4cb07156-8003-4cf7-8ab8-f9de6f8c9698",
      "metadata": {
        "editable": true,
        "execution": {
          "iopub.execute_input": "2025-10-04T00:58:48.960960Z",
          "iopub.status.busy": "2025-10-04T00:58:48.960716Z",
          "iopub.status.idle": "2025-10-04T00:58:48.964314Z",
          "shell.execute_reply": "2025-10-04T00:58:48.963844Z",
          "shell.execute_reply.started": "2025-10-04T00:58:48.960946Z"
        },
        "trusted": true
      },
      "outputs": [
        {
          "name": "stdout",
          "output_type": "stream",
          "text": [
            "runtime-01k6pat9zep6j6qwkpr653c4ps\n"
          ]
        }
      ],
      "source": [
        "import platform\n",
        "print(platform.node())"
      ]
    },
    {
      "cell_type": "code",
      "execution_count": 2,
      "id": "d7c92dbb",
      "metadata": {
        "editable": true,
        "execution": {
          "iopub.execute_input": "2025-10-03T07:47:20.706677Z",
          "iopub.status.busy": "2025-10-03T07:47:20.705788Z",
          "iopub.status.idle": "2025-10-03T07:47:20.710953Z",
          "shell.execute_reply": "2025-10-03T07:47:20.709941Z",
          "shell.execute_reply.started": "2025-10-03T07:47:20.706635Z"
        },
        "trusted": true
      },
      "outputs": [
        {
          "name": "stdout",
          "output_type": "stream",
          "text": [
            "1\n"
          ]
        }
      ],
      "source": [
        "print(1)"
      ]
    },
    {
      "cell_type": "code",
      "execution_count": 5,
      "id": "a9a46ba8-5da8-41fc-9487-05d440e406ea",
      "metadata": {
        "editable": true,
        "execution": {
          "iopub.execute_input": "2025-10-03T07:48:56.535834Z",
          "iopub.status.busy": "2025-10-03T07:48:56.535163Z",
          "iopub.status.idle": "2025-10-03T07:48:56.540955Z",
          "shell.execute_reply": "2025-10-03T07:48:56.540120Z",
          "shell.execute_reply.started": "2025-10-03T07:48:56.535806Z"
        },
        "trusted": true
      },
      "outputs": [
        {
          "data": {
            "text/plain": [
              "5"
            ]
          },
          "execution_count": 5,
          "metadata": {},
          "output_type": "execute_result"
        }
      ],
      "source": [
        "1+4"
      ]
    },
    {
      "cell_type": "code",
      "execution_count": null,
      "id": "a83c25fa-81a2-4f4e-a589-a8e6bdcd36cb",
      "metadata": {
        "editable": true,
        "trusted": true
      },
      "outputs": [],
      "source": []
    }
  ],
  "metadata": {
    "kernelspec": {
      "display_name": "Python 3 (ipykernel)",
      "language": "python",
      "name": "python3"
    },
    "language_info": {
      "codemirror_mode": {
        "name": "ipython",
        "version": 3
      },
      "file_extension": ".py",
      "mimetype": "text/x-python",
      "name": "python",
      "nbconvert_exporter": "python",
      "pygments_lexer": "ipython3",
      "version": "3.12.9"
    }
  },
  "nbformat": 4,
  "nbformat_minor": 5
}
