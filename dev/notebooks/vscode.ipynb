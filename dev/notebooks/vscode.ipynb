{
  "cells": [
    {
      "cell_type": "code",
      "execution_count": 5,
      "id": "4cb07156-8003-4cf7-8ab8-f9de6f8c9698",
      "metadata": {
        "editable": true,
        "execution": {
          "iopub.execute_input": "2025-09-22T03:11:16.825564Z",
          "iopub.status.busy": "2025-09-22T03:11:16.824824Z",
          "iopub.status.idle": "2025-09-22T03:11:16.829185Z",
          "shell.execute_reply": "2025-09-22T03:11:16.828554Z",
          "shell.execute_reply.started": "2025-09-22T03:11:16.825530Z"
        },
        "trusted": true
      },
      "outputs": [
        {
          "name": "stdout",
          "output_type": "stream",
          "text": [
            "jupyter-server-59fc6b4cc5-vtqx8\n"
          ]
        }
      ],
      "source": [
        "import platform\n",
        "print(platform.node())"
      ]
    },
    {
      "cell_type": "code",
      "execution_count": 2,
      "id": "d7c92dbb",
      "metadata": {
        "editable": true,
        "execution": {
          "iopub.execute_input": "2025-09-22T03:10:53.937521Z",
          "iopub.status.busy": "2025-09-22T03:10:53.937002Z",
          "iopub.status.idle": "2025-09-22T03:10:53.941003Z",
          "shell.execute_reply": "2025-09-22T03:10:53.940207Z",
          "shell.execute_reply.started": "2025-09-22T03:10:53.937497Z"
        },
        "trusted": true
      },
      "outputs": [
        {
          "name": "stdout",
          "output_type": "stream",
          "text": [
            "1\n"
          ]
        }
      ],
      "source": [
        "print(1)"
      ]
    },
    {
      "cell_type": "code",
      "execution_count": 3,
      "id": "a9a46ba8-5da8-41fc-9487-05d440e406ea",
      "metadata": {
        "editable": true,
        "execution": {
          "iopub.execute_input": "2025-09-22T03:10:57.885197Z",
          "iopub.status.busy": "2025-09-22T03:10:57.884476Z",
          "iopub.status.idle": "2025-09-22T03:10:57.891226Z",
          "shell.execute_reply": "2025-09-22T03:10:57.890374Z",
          "shell.execute_reply.started": "2025-09-22T03:10:57.885165Z"
        },
        "trusted": true
      },
      "outputs": [
        {
          "data": {
            "text/plain": [
              "2"
            ]
          },
          "execution_count": 3,
          "metadata": {},
          "output_type": "execute_result"
        }
      ],
      "source": [
        "1+1"
      ]
    },
    {
      "cell_type": "code",
      "execution_count": null,
      "id": "a83c25fa-81a2-4f4e-a589-a8e6bdcd36cb",
      "metadata": {
        "trusted": true
      },
      "outputs": [],
      "source": []
    }
  ],
  "metadata": {
    "kernelspec": {
      "display_name": "ipykernel",
      "language": "python",
      "name": "python3"
    },
    "language_info": {
      "codemirror_mode": {
        "name": "ipython",
        "version": 3
      },
      "file_extension": ".py",
      "mimetype": "text/x-python",
      "name": "python",
      "nbconvert_exporter": "python",
      "pygments_lexer": "ipython3",
      "version": "3.13.5"
    }
  },
  "nbformat": 4,
  "nbformat_minor": 5
}
