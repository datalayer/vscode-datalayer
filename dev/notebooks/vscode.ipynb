{
  "metadata": {
    "kernelspec": {
      "name": "python3",
      "display_name": "Python 3 (ipykernel)",
      "language": "python"
    },
    "language_info": {
      "name": "python",
      "version": "3.12.9",
      "mimetype": "text/x-python",
      "codemirror_mode": {
        "name": "ipython",
        "version": 3
      },
      "pygments_lexer": "ipython3",
      "nbconvert_exporter": "python",
      "file_extension": ".py"
    }
  },
  "nbformat_minor": 5,
  "nbformat": 4,
  "cells": [
    {
      "id": "4cb07156-8003-4cf7-8ab8-f9de6f8c9698",
      "cell_type": "code",
      "source": "import platform\nprint(platform.node())",
      "metadata": {
        "editable": true,
        "trusted": true,
        "execution": {
          "iopub.status.busy": "2025-10-04T00:58:48.960716Z",
          "iopub.execute_input": "2025-10-04T00:58:48.960960Z",
          "iopub.status.idle": "2025-10-04T00:58:48.964314Z",
          "shell.execute_reply.started": "2025-10-04T00:58:48.960946Z",
          "shell.execute_reply": "2025-10-04T00:58:48.963844Z"
        }
      },
      "outputs": [
        {
          "name": "stdout",
          "output_type": "stream",
          "text": "runtime-01k6pat9zep6j6qwkpr653c4ps\n"
        }
      ],
      "execution_count": 1
    },
    {
      "id": "d7c92dbb",
      "cell_type": "code",
      "source": "print(1)",
      "metadata": {
        "editable": true,
        "execution": {
          "iopub.status.busy": "2025-10-03T07:47:20.705788Z",
          "iopub.execute_input": "2025-10-03T07:47:20.706677Z",
          "iopub.status.idle": "2025-10-03T07:47:20.710953Z",
          "shell.execute_reply.started": "2025-10-03T07:47:20.706635Z",
          "shell.execute_reply": "2025-10-03T07:47:20.709941Z"
        },
        "trusted": true
      },
      "outputs": [
        {
          "name": "stdout",
          "output_type": "stream",
          "text": "1\n"
        }
      ],
      "execution_count": 2
    },
    {
      "id": "a9a46ba8-5da8-41fc-9487-05d440e406ea",
      "cell_type": "code",
      "source": "1+4",
      "metadata": {
        "editable": true,
        "execution": {
          "iopub.status.busy": "2025-10-03T07:48:56.535163Z",
          "iopub.execute_input": "2025-10-03T07:48:56.535834Z",
          "iopub.status.idle": "2025-10-03T07:48:56.540955Z",
          "shell.execute_reply.started": "2025-10-03T07:48:56.535806Z",
          "shell.execute_reply": "2025-10-03T07:48:56.540120Z"
        },
        "trusted": true
      },
      "outputs": [
        {
          "execution_count": 5,
          "output_type": "execute_result",
          "data": {
            "text/plain": "5"
          },
          "metadata": {}
        }
      ],
      "execution_count": 5
    },
    {
      "id": "a83c25fa-81a2-4f4e-a589-a8e6bdcd36cb",
      "cell_type": "code",
      "source": "",
      "metadata": {
        "trusted": true,
        "editable": true
      },
      "outputs": [],
      "execution_count": null
    }
  ]
}